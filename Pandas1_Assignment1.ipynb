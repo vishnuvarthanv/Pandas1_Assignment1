{
 "cells": [
  {
   "cell_type": "code",
   "execution_count": 2,
   "metadata": {},
   "outputs": [
    {
     "name": "stdout",
     "output_type": "stream",
     "text": [
      "[1, 2, 0, 1, 2, 3, 4, 0, 1, 2]\n"
     ]
    }
   ],
   "source": [
    "#1) How-to-count-distance-to-the-previous-zero\n",
    "import pandas as pd\n",
    "s = pd.Series([7, 2, 0, 3, 4, 2, 5, 0, 3, 4])\n",
    "print((s.groupby(s.eq(0).cumsum().mask(s.eq(0))).cumcount() + 1).mask(s.eq(0), 0).tolist())"
   ]
  },
  {
   "cell_type": "code",
   "execution_count": 3,
   "metadata": {},
   "outputs": [
    {
     "name": "stdout",
     "output_type": "stream",
     "text": [
      "2015-01-01    0.423865\n",
      "2015-01-02    0.287766\n",
      "2015-01-05    0.770729\n",
      "2015-01-06    0.736758\n",
      "2015-01-07    0.891503\n",
      "2015-01-08    0.800890\n",
      "2015-01-09    0.178571\n",
      "2015-01-12    0.742510\n",
      "2015-01-13    0.722956\n",
      "2015-01-14    0.446188\n",
      "2015-01-15    0.575354\n",
      "2015-01-16    0.717688\n",
      "2015-01-19    0.555881\n",
      "2015-01-20    0.110128\n",
      "2015-01-21    0.561071\n",
      "2015-01-22    0.780754\n",
      "2015-01-23    0.981162\n",
      "2015-01-26    0.027536\n",
      "2015-01-27    0.110312\n",
      "2015-01-28    0.473907\n",
      "2015-01-29    0.400032\n",
      "2015-01-30    0.013969\n",
      "2015-02-02    0.429253\n",
      "2015-02-03    0.894696\n",
      "2015-02-04    0.469952\n",
      "2015-02-05    0.907630\n",
      "2015-02-06    0.534849\n",
      "2015-02-09    0.885142\n",
      "2015-02-10    0.145658\n",
      "2015-02-11    0.592887\n",
      "                ...   \n",
      "2015-11-20    0.315667\n",
      "2015-11-23    0.977086\n",
      "2015-11-24    0.631568\n",
      "2015-11-25    0.964638\n",
      "2015-11-26    0.902820\n",
      "2015-11-27    0.550647\n",
      "2015-11-30    0.619129\n",
      "2015-12-01    0.273705\n",
      "2015-12-02    0.137502\n",
      "2015-12-03    0.857861\n",
      "2015-12-04    0.083296\n",
      "2015-12-07    0.114459\n",
      "2015-12-08    0.583274\n",
      "2015-12-09    0.198917\n",
      "2015-12-10    0.152212\n",
      "2015-12-11    0.843167\n",
      "2015-12-14    0.588192\n",
      "2015-12-15    0.730280\n",
      "2015-12-16    0.101070\n",
      "2015-12-17    0.989296\n",
      "2015-12-18    0.434336\n",
      "2015-12-21    0.376441\n",
      "2015-12-22    0.688625\n",
      "2015-12-23    0.908881\n",
      "2015-12-24    0.631848\n",
      "2015-12-25    0.707591\n",
      "2015-12-28    0.166870\n",
      "2015-12-29    0.295212\n",
      "2015-12-30    0.204470\n",
      "2015-12-31    0.428310\n",
      "Freq: B, Length: 261, dtype: float64\n"
     ]
    }
   ],
   "source": [
    "#2) Create a DatetimeIndex that contains each business day of 2015 and use it to index a Series of random numbers.\n",
    "import numpy as np\n",
    "dti = pd.date_range(start='2015-01-01', end='2015-12-31', freq='B')\n",
    "s = pd.Series(np.random.rand(len(dti)), index=dti)\n",
    "print(s)"
   ]
  },
  {
   "cell_type": "code",
   "execution_count": 4,
   "metadata": {},
   "outputs": [
    {
     "data": {
      "text/plain": [
       "21.888413725887617"
      ]
     },
     "execution_count": 4,
     "metadata": {},
     "output_type": "execute_result"
    }
   ],
   "source": [
    "#3) Find the sum of the values in s for every Wednesday\n",
    "s[dti.weekday == 2].sum()"
   ]
  },
  {
   "cell_type": "code",
   "execution_count": 5,
   "metadata": {},
   "outputs": [
    {
     "data": {
      "text/plain": [
       "2015-01-31    0.514069\n",
       "2015-02-28    0.403085\n",
       "2015-03-31    0.503587\n",
       "2015-04-30    0.409911\n",
       "2015-05-31    0.450789\n",
       "2015-06-30    0.549286\n",
       "2015-07-31    0.514955\n",
       "2015-08-31    0.391813\n",
       "2015-09-30    0.452088\n",
       "2015-10-31    0.430860\n",
       "2015-11-30    0.573198\n",
       "2015-12-31    0.456340\n",
       "Freq: M, dtype: float64"
      ]
     },
     "execution_count": 5,
     "metadata": {},
     "output_type": "execute_result"
    }
   ],
   "source": [
    "#4) Average For each calendar month\n",
    "s.resample('M').mean()"
   ]
  },
  {
   "cell_type": "code",
   "execution_count": 10,
   "metadata": {},
   "outputs": [
    {
     "data": {
      "text/plain": [
       "2015-01-31   2015-01-23\n",
       "2015-05-31   2015-05-07\n",
       "2015-09-30   2015-08-13\n",
       "2016-01-31   2015-12-17\n",
       "dtype: datetime64[ns]"
      ]
     },
     "execution_count": 10,
     "metadata": {},
     "output_type": "execute_result"
    }
   ],
   "source": [
    "#5) For each group of four consecutive calendar months in s, find the date on which the highest value occurred.\n",
    "s.groupby(pd.Grouper(freq='4M')).idxmax()"
   ]
  },
  {
   "cell_type": "code",
   "execution_count": null,
   "metadata": {},
   "outputs": [],
   "source": []
  }
 ],
 "metadata": {
  "kernelspec": {
   "display_name": "Python 3",
   "language": "python",
   "name": "python3"
  },
  "language_info": {
   "codemirror_mode": {
    "name": "ipython",
    "version": 3
   },
   "file_extension": ".py",
   "mimetype": "text/x-python",
   "name": "python",
   "nbconvert_exporter": "python",
   "pygments_lexer": "ipython3",
   "version": "3.6.8"
  }
 },
 "nbformat": 4,
 "nbformat_minor": 2
}
